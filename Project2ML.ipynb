{
  "nbformat": 4,
  "nbformat_minor": 0,
  "metadata": {
    "colab": {
      "provenance": []
    },
    "kernelspec": {
      "name": "python3",
      "display_name": "Python 3"
    },
    "language_info": {
      "name": "python"
    }
  },
  "cells": [
    {
      "cell_type": "markdown",
      "source": [
        "# Project 2: Classification and Regression\n",
        "\n"
      ],
      "metadata": {
        "id": "1-j9TGmDWzVW"
      }
    },
    {
      "cell_type": "markdown",
      "source": [
        "Collaborators:\n",
        "* Abhay Sharma\n",
        " * Classification Centroid/KNN Modeling and Analysis, Data Preperation, Regression Analysis and Comparison, Variable Importance, Deployment, LinearSVR\n",
        "* Jasmine O'Neal\n",
        " * Naive Bayes Modelling and Analysis Writeup\n",
        "* Akib Hossain\n",
        " * Linear Regression Model, LinearSVR"
      ],
      "metadata": {
        "id": "i8A-_EkZpEOk"
      }
    },
    {
      "cell_type": "markdown",
      "source": [
        "For this project we are focusing on two tasks, one of classification and one of regression.\n",
        "\n"
      ],
      "metadata": {
        "id": "w048BPzhir3b"
      }
    },
    {
      "cell_type": "code",
      "execution_count": null,
      "metadata": {
        "id": "C-1iweqSWygn",
        "colab": {
          "base_uri": "https://localhost:8080/"
        },
        "outputId": "62de314c-bb4e-47f8-c286-0049b30440ac"
      },
      "outputs": [
        {
          "output_type": "stream",
          "name": "stdout",
          "text": [
            "Cloning into 'ML-AstroSet'...\n",
            "remote: Enumerating objects: 72, done.\u001b[K\n",
            "remote: Counting objects: 100% (72/72), done.\u001b[K\n",
            "remote: Compressing objects: 100% (53/53), done.\u001b[K\n",
            "remote: Total 72 (delta 32), reused 44 (delta 16), pack-reused 0\u001b[K\n",
            "Unpacking objects: 100% (72/72), 9.57 MiB | 3.20 MiB/s, done.\n"
          ]
        }
      ],
      "source": [
        "!git clone https://github.com/AbhaySh4r/ML-AstroSet"
      ]
    },
    {
      "cell_type": "code",
      "source": [
        "import pandas as pd\n",
        "import numpy as np\n",
        "\n",
        "from sklearn.model_selection import train_test_split\n",
        "from sklearn.preprocessing import MinMaxScaler\n",
        "\n",
        "df = pd.read_csv(\"ML-AstroSet/data/star_classification.csv\")\n",
        "df = df.replace(to_replace=-9999.0, value = np.nan)\n",
        "df = df.dropna()"
      ],
      "metadata": {
        "id": "B4ZSRftyjSuA"
      },
      "execution_count": null,
      "outputs": []
    },
    {
      "cell_type": "markdown",
      "source": [
        "For our classification models we will be focusing on comparing F1 scores as this gives us the best analysis in terms of maximizing both our precision and recall for each class.\n",
        "\n",
        "For regression, since we cannot use F1, we will instead utilize MSE to compare and analyze the error between our predicted response variable and our actual response variables within the test sets."
      ],
      "metadata": {
        "id": "i3qWO8TXvs1g"
      }
    },
    {
      "cell_type": "markdown",
      "source": [
        "# Data Preparation"
      ],
      "metadata": {
        "id": "BqiaCzdkx00n"
      }
    },
    {
      "cell_type": "markdown",
      "source": [
        "The classification task is done on the \"Class\" variable within the dataset. From our previous EDA and interactions with the dataset, we know that the \"Class\" variable has 3 levels and distills our classification task to a multiclass classification.\n",
        "\n",
        "We also know that there is a large bias in the set of classifiers, so that we have to use a weighted approach along with Stratified Cross Validation methods to account for the imbalance in the dataset.\n"
      ],
      "metadata": {
        "id": "XWDKJM97Uowq"
      }
    },
    {
      "cell_type": "code",
      "source": [
        "import seaborn as sns\n",
        "\n",
        "sns.histplot(df, x = \"class\")"
      ],
      "metadata": {
        "colab": {
          "base_uri": "https://localhost:8080/",
          "height": 466
        },
        "id": "8vaa9TxFtgXR",
        "outputId": "2ef5fe7b-a29c-4ac0-e0e7-067281d8e20c"
      },
      "execution_count": null,
      "outputs": [
        {
          "output_type": "execute_result",
          "data": {
            "text/plain": [
              "<Axes: xlabel='class', ylabel='Count'>"
            ]
          },
          "metadata": {},
          "execution_count": 20
        },
        {
          "output_type": "display_data",
          "data": {
            "text/plain": [
              "<Figure size 640x480 with 1 Axes>"
            ],
            "image/png": "[encoded data removed]"
          },
          "metadata": {}
        }
      ]
    },
    {
      "cell_type": "markdown",
      "source": [
        "\n",
        "For the initial classification attempt, we will be using NearestCentroid with the foresight that we have a large amount of data.\n",
        "\n",
        "We will also be running the dataset on a normalized dataset with the mean subtracted to decrease computational effort required to process the whole set."
      ],
      "metadata": {
        "id": "dMUkJYzj3WWo"
      }
    },
    {
      "cell_type": "code",
      "source": [
        "scaler = MinMaxScaler()\n",
        "\n",
        "df_cont = df.drop(\"class\", axis = 1)\n",
        "norm_df = pd.DataFrame(scaler.fit_transform(df_cont))\n",
        "\n",
        "norm_df.columns = df_cont.columns"
      ],
      "metadata": {
        "id": "MBal37VgeYdf"
      },
      "execution_count": null,
      "outputs": []
    },
    {
      "cell_type": "markdown",
      "source": [
        "Removing ID information to prevent the model from extracting information from the names of stellar objects, and focus on the physical parameters instead to strengthen utility."
      ],
      "metadata": {
        "id": "eiX3GQlwhEB0"
      }
    },
    {
      "cell_type": "code",
      "source": [
        "phys_df = norm_df.loc[:, ~norm_df.columns.isin([\"obj_ID\", \"run_ID\", \"rerun_ID\", \"field_ID\", \"spec_obj_ID\", \"plate\", \"fiber_ID\", \"cam_col\"])]"
      ],
      "metadata": {
        "id": "rSJunXjshDOJ"
      },
      "execution_count": null,
      "outputs": []
    },
    {
      "cell_type": "code",
      "source": [
        "phys_df.head()"
      ],
      "metadata": {
        "colab": {
          "base_uri": "https://localhost:8080/",
          "height": 206
        },
        "id": "NF3HCYjTBtEE",
        "outputId": "461fe770-5a50-4c73-ef85-ba6ea9a788da"
      },
      "execution_count": null,
      "outputs": [
        {
          "output_type": "execute_result",
          "data": {
            "text/plain": [
              "      alpha     delta         u         g         r         i         z  \\\n",
              "0  0.376905  0.503802  0.591347  0.558050  0.535344  0.427665  0.464377   \n",
              "1  0.402286  0.491812  0.632603  0.584423  0.646203  0.515986  0.607035   \n",
              "2  0.394960  0.534139  0.654888  0.576463  0.546218  0.435729  0.472194   \n",
              "3  0.940947  0.180600  0.511384  0.629186  0.596946  0.486717  0.487460   \n",
              "4  0.959118  0.392679  0.387463  0.335579  0.337999  0.287021  0.300043   \n",
              "\n",
              "   redshift       MJD  \n",
              "0  0.091831  0.648007  \n",
              "1  0.112389  0.894320  \n",
              "2  0.093170  0.543965  \n",
              "3  0.134210  0.878072  \n",
              "4  0.017959  0.625205  "
            ],
            "text/html": [
              "\n",
              "  <div id=\"df-555735b8-0c34-4108-a724-514a2521f2f8\">\n",
              "    <div class=\"colab-df-container\">\n",
              "      <div>\n",
              "<style scoped>\n",
              "    .dataframe tbody tr th:only-of-type {\n",
              "        vertical-align: middle;\n",
              "    }\n",
              "\n",
              "    .dataframe tbody tr th {\n",
              "        vertical-align: top;\n",
              "    }\n",
              "\n",
              "    .dataframe thead th {\n",
              "        text-align: right;\n",
              "    }\n",
              "</style>\n",
              "<table border=\"1\" class=\"dataframe\">\n",
              "  <thead>\n",
              "    <tr style=\"text-align: right;\">\n",
              "      <th></th>\n",
              "      <th>alpha</th>\n",
              "      <th>delta</th>\n",
              "      <th>u</th>\n",
              "      <th>g</th>\n",
              "      <th>r</th>\n",
              "      <th>i</th>\n",
              "      <th>z</th>\n",
              "      <th>redshift</th>\n",
              "      <th>MJD</th>\n",
              "    </tr>\n",
              "  </thead>\n",
              "  <tbody>\n",
              "    <tr>\n",
              "      <th>0</th>\n",
              "      <td>0.376905</td>\n",
              "      <td>0.503802</td>\n",
              "      <td>0.591347</td>\n",
              "      <td>0.558050</td>\n",
              "      <td>0.535344</td>\n",
              "      <td>0.427665</td>\n",
              "      <td>0.464377</td>\n",
              "      <td>0.091831</td>\n",
              "      <td>0.648007</td>\n",
              "    </tr>\n",
              "    <tr>\n",
              "      <th>1</th>\n",
              "      <td>0.402286</td>\n",
              "      <td>0.491812</td>\n",
              "      <td>0.632603</td>\n",
              "      <td>0.584423</td>\n",
              "      <td>0.646203</td>\n",
              "      <td>0.515986</td>\n",
              "      <td>0.607035</td>\n",
              "      <td>0.112389</td>\n",
              "      <td>0.894320</td>\n",
              "    </tr>\n",
              "    <tr>\n",
              "      <th>2</th>\n",
              "      <td>0.394960</td>\n",
              "      <td>0.534139</td>\n",
              "      <td>0.654888</td>\n",
              "      <td>0.576463</td>\n",
              "      <td>0.546218</td>\n",
              "      <td>0.435729</td>\n",
              "      <td>0.472194</td>\n",
              "      <td>0.093170</td>\n",
              "      <td>0.543965</td>\n",
              "    </tr>\n",
              "    <tr>\n",
              "      <th>3</th>\n",
              "      <td>0.940947</td>\n",
              "      <td>0.180600</td>\n",
              "      <td>0.511384</td>\n",
              "      <td>0.629186</td>\n",
              "      <td>0.596946</td>\n",
              "      <td>0.486717</td>\n",
              "      <td>0.487460</td>\n",
              "      <td>0.134210</td>\n",
              "      <td>0.878072</td>\n",
              "    </tr>\n",
              "    <tr>\n",
              "      <th>4</th>\n",
              "      <td>0.959118</td>\n",
              "      <td>0.392679</td>\n",
              "      <td>0.387463</td>\n",
              "      <td>0.335579</td>\n",
              "      <td>0.337999</td>\n",
              "      <td>0.287021</td>\n",
              "      <td>0.300043</td>\n",
              "      <td>0.017959</td>\n",
              "      <td>0.625205</td>\n",
              "    </tr>\n",
              "  </tbody>\n",
              "</table>\n",
              "</div>\n",
              "      <button class=\"colab-df-convert\" onclick=\"convertToInteractive('df-555735b8-0c34-4108-a724-514a2521f2f8')\"\n",
              "              title=\"Convert this dataframe to an interactive table.\"\n",
              "              style=\"display:none;\">\n",
              "        \n",
              "  <svg xmlns=\"http://www.w3.org/2000/svg\" height=\"24px\"viewBox=\"0 0 24 24\"\n",
              "       width=\"24px\">\n",
              "    <path d=\"M0 0h24v24H0V0z\" fill=\"none\"/>\n",
              "    <path d=\"M18.56 5.44l.94 2.06.94-2.06 2.06-.94-2.06-.94-.94-2.06-.94 2.06-2.06.94zm-11 1L8.5 8.5l.94-2.06 2.06-.94-2.06-.94L8.5 2.5l-.94 2.06-2.06.94zm10 10l.94 2.06.94-2.06 2.06-.94-2.06-.94-.94-2.06-.94 2.06-2.06.94z\"/><path d=\"M17.41 7.96l-1.37-1.37c-.4-.4-.92-.59-1.43-.59-.52 0-1.04.2-1.43.59L10.3 9.45l-7.72 7.72c-.78.78-.78 2.05 0 2.83L4 21.41c.39.39.9.59 1.41.59.51 0 1.02-.2 1.41-.59l7.78-7.78 2.81-2.81c.8-.78.8-2.07 0-2.86zM5.41 20L4 18.59l7.72-7.72 1.47 1.35L5.41 20z\"/>\n",
              "  </svg>\n",
              "      </button>\n",
              "      \n",
              "  <style>\n",
              "    .colab-df-container {\n",
              "      display:flex;\n",
              "      flex-wrap:wrap;\n",
              "      gap: 12px;\n",
              "    }\n",
              "\n",
              "    .colab-df-convert {\n",
              "      background-color: #E8F0FE;\n",
              "      border: none;\n",
              "      border-radius: 50%;\n",
              "      cursor: pointer;\n",
              "      display: none;\n",
              "      fill: #1967D2;\n",
              "      height: 32px;\n",
              "      padding: 0 0 0 0;\n",
              "      width: 32px;\n",
              "    }\n",
              "\n",
              "    .colab-df-convert:hover {\n",
              "      background-color: #E2EBFA;\n",
              "      box-shadow: 0px 1px 2px rgba(60, 64, 67, 0.3), 0px 1px 3px 1px rgba(60, 64, 67, 0.15);\n",
              "      fill: #174EA6;\n",
              "    }\n",
              "\n",
              "    [theme=dark] .colab-df-convert {\n",
              "      background-color: #3B4455;\n",
              "      fill: #D2E3FC;\n",
              "    }\n",
              "\n",
              "    [theme=dark] .colab-df-convert:hover {\n",
              "      background-color: #434B5C;\n",
              "      box-shadow: 0px 1px 3px 1px rgba(0, 0, 0, 0.15);\n",
              "      filter: drop-shadow(0px 1px 2px rgba(0, 0, 0, 0.3));\n",
              "      fill: #FFFFFF;\n",
              "    }\n",
              "  </style>\n",
              "\n",
              "      <script>\n",
              "        const buttonEl =\n",
              "          document.querySelector('#df-555735b8-0c34-4108-a724-514a2521f2f8 button.colab-df-convert');\n",
              "        buttonEl.style.display =\n",
              "          google.colab.kernel.accessAllowed ? 'block' : 'none';\n",
              "\n",
              "        async function convertToInteractive(key) {\n",
              "          const element = document.querySelector('#df-555735b8-0c34-4108-a724-514a2521f2f8');\n",
              "          const dataTable =\n",
              "            await google.colab.kernel.invokeFunction('convertToInteractive',\n",
              "                                                     [key], {});\n",
              "          if (!dataTable) return;\n",
              "\n",
              "          const docLinkHtml = 'Like what you see? Visit the ' +\n",
              "            '<a target=\"_blank\" href=https://colab.research.google.com/notebooks/data_table.ipynb>data table notebook</a>'\n",
              "            + ' to learn more about interactive tables.';\n",
              "          element.innerHTML = '';\n",
              "          dataTable['output_type'] = 'display_data';\n",
              "          await google.colab.output.renderOutput(dataTable, element);\n",
              "          const docLink = document.createElement('div');\n",
              "          docLink.innerHTML = docLinkHtml;\n",
              "          element.appendChild(docLink);\n",
              "        }\n",
              "      </script>\n",
              "    </div>\n",
              "  </div>\n",
              "  "
            ]
          },
          "metadata": {},
          "execution_count": 23
        }
      ]
    },
    {
      "cell_type": "markdown",
      "source": [
        "This is the final form of the data that will be used within the analysis. We keep the class variable to the side for the moment as within the regression task we will be performing a one-hot encode on the variable to append to this dataset.\n",
        "\n",
        "In this final iteration, it is standardized, and has most extraneous information removed."
      ],
      "metadata": {
        "id": "JeO9qG_px-g3"
      }
    },
    {
      "cell_type": "markdown",
      "source": [
        "# Classification"
      ],
      "metadata": {
        "id": "o1xqIZOmUg8g"
      }
    },
    {
      "cell_type": "markdown",
      "source": [
        "## Centroid and KNN Classification"
      ],
      "metadata": {
        "id": "pv_sKSE1bh-b"
      }
    },
    {
      "cell_type": "markdown",
      "source": [
        "Making the initial test/training split:"
      ],
      "metadata": {
        "id": "EjCRmypLs5G1"
      }
    },
    {
      "cell_type": "code",
      "source": [
        "X = phys_df\n",
        "y = df[\"class\"]\n",
        "X_train, X_test, y_train, y_test = train_test_split(X, y, test_size=0.2, random_state=25)\n",
        "\n",
        "print(len(X_train), len(X_test))"
      ],
      "metadata": {
        "colab": {
          "base_uri": "https://localhost:8080/"
        },
        "id": "YKfdbY2Ns45q",
        "outputId": "68abd2f7-d536-4a30-eb71-65a1167b8df2"
      },
      "execution_count": null,
      "outputs": [
        {
          "output_type": "stream",
          "name": "stdout",
          "text": [
            "79999 20000\n"
          ]
        }
      ]
    },
    {
      "cell_type": "code",
      "source": [
        "from sklearn.model_selection import cross_validate\n",
        "from sklearn.neighbors import NearestCentroid\n",
        "from sklearn.metrics import accuracy_score\n",
        "\n",
        "\n",
        "clf = NearestCentroid(metric = \"euclidean\")\n",
        "\n",
        "\n",
        "\n",
        "model = clf.fit(X_train, y_train)"
      ],
      "metadata": {
        "id": "BKu-yoqXs2JJ"
      },
      "execution_count": null,
      "outputs": []
    },
    {
      "cell_type": "code",
      "source": [
        "from sklearn.metrics import confusion_matrix, ConfusionMatrixDisplay, f1_score, roc_auc_score\n",
        "import matplotlib.pyplot as plt\n",
        "\n",
        "y_hat = clf.predict(X_test)\n",
        "acc = accuracy_score(y_test, y_hat)\n",
        "\n",
        "mat = confusion_matrix(y_test, y_hat)\n",
        "disp = ConfusionMatrixDisplay(mat, display_labels=clf.classes_)\n",
        "\n",
        "disp.plot()\n",
        "plt.show()\n",
        "\n",
        "f1 = f1_score(y_test, y_hat, average = None)\n",
        "\n",
        "for ind, x in enumerate(f1):\n",
        "  print(\"F1 Score:\", clf.classes_[ind], f1[ind])"
      ],
      "metadata": {
        "colab": {
          "base_uri": "https://localhost:8080/",
          "height": 501
        },
        "id": "m3ka8fRntvj0",
        "outputId": "31e2bbf7-b8c3-4fca-be32-a9a0ee19a99c"
      },
      "execution_count": null,
      "outputs": [
        {
          "output_type": "display_data",
          "data": {
            "text/plain": [
              "<Figure size 640x480 with 2 Axes>"
            ],
            "image/png": "[encoded data removed]"
          },
          "metadata": {}
        },
        {
          "output_type": "stream",
          "name": "stdout",
          "text": [
            "F1 Score: GALAXY 0.5605378734479206\n",
            "F1 Score: QSO 0.6197681273334644\n",
            "F1 Score: STAR 0.46805518938395296\n"
          ]
        }
      ]
    },
    {
      "cell_type": "markdown",
      "source": [
        "We can see from the confusion matrix that Nearest Centroid struggles with classifications other than Galaxy class, but even then it's overall performance is relatively lackluster. This is highlighted by the very low F1 score for each class within the response, indicating that we will need a different approach.\n",
        "\n",
        "This is likely due to the simplicity of the NearestCentroid model and our next approach will pivot into KNN instead, a similiar approach but with much more resolution."
      ],
      "metadata": {
        "id": "-jW7qBefbpz8"
      }
    },
    {
      "cell_type": "code",
      "source": [
        "from sklearn.model_selection import GridSearchCV\n",
        "from sklearn.neighbors import KNeighborsClassifier\n",
        "\n",
        "param_grid = {'n_neighbors': [1, 2, 3, 4, 5, 6]}\n",
        "\n",
        "clf_neighbor = KNeighborsClassifier(metric = \"euclidean\")\n",
        "\n",
        "neighbors = GridSearchCV(estimator=clf_neighbor, param_grid = param_grid, scoring = \"f1_weighted\", cv = 5)\n",
        "\n",
        "neighbors.fit(X_train, y_train)"
      ],
      "metadata": {
        "colab": {
          "base_uri": "https://localhost:8080/",
          "height": 118
        },
        "id": "NQ3_PLDccyxC",
        "outputId": "89e8991b-bd56-4317-f9e3-c8cfe386a226"
      },
      "execution_count": null,
      "outputs": [
        {
          "output_type": "execute_result",
          "data": {
            "text/plain": [
              "GridSearchCV(cv=5, estimator=KNeighborsClassifier(metric='euclidean'),\n",
              "             param_grid={'n_neighbors': [1, 2, 3, 4, 5, 6]},\n",
              "             scoring='f1_weighted')"
            ],
            "text/html": [
              "<style>#sk-container-id-1 {color: black;background-color: white;}#sk-container-id-1 pre{padding: 0;}#sk-container-id-1 div.sk-toggleable {background-color: white;}#sk-container-id-1 label.sk-toggleable__label {cursor: pointer;display: block;width: 100%;margin-bottom: 0;padding: 0.3em;box-sizing: border-box;text-align: center;}#sk-container-id-1 label.sk-toggleable__label-arrow:before {content: \"▸\";float: left;margin-right: 0.25em;color: #696969;}#sk-container-id-1 label.sk-toggleable__label-arrow:hover:before {color: black;}#sk-container-id-1 div.sk-estimator:hover label.sk-toggleable__label-arrow:before {color: black;}#sk-container-id-1 div.sk-toggleable__content {max-height: 0;max-width: 0;overflow: hidden;text-align: left;background-color: #f0f8ff;}#sk-container-id-1 div.sk-toggleable__content pre {margin: 0.2em;color: black;border-radius: 0.25em;background-color: #f0f8ff;}#sk-container-id-1 input.sk-toggleable__control:checked~div.sk-toggleable__content {max-height: 200px;max-width: 100%;overflow: auto;}#sk-container-id-1 input.sk-toggleable__control:checked~label.sk-toggleable__label-arrow:before {content: \"▾\";}#sk-container-id-1 div.sk-estimator input.sk-toggleable__control:checked~label.sk-toggleable__label {background-color: #d4ebff;}#sk-container-id-1 div.sk-label input.sk-toggleable__control:checked~label.sk-toggleable__label {background-color: #d4ebff;}#sk-container-id-1 input.sk-hidden--visually {border: 0;clip: rect(1px 1px 1px 1px);clip: rect(1px, 1px, 1px, 1px);height: 1px;margin: -1px;overflow: hidden;padding: 0;position: absolute;width: 1px;}#sk-container-id-1 div.sk-estimator {font-family: monospace;background-color: #f0f8ff;border: 1px dotted black;border-radius: 0.25em;box-sizing: border-box;margin-bottom: 0.5em;}#sk-container-id-1 div.sk-estimator:hover {background-color: #d4ebff;}#sk-container-id-1 div.sk-parallel-item::after {content: \"\";width: 100%;border-bottom: 1px solid gray;flex-grow: 1;}#sk-container-id-1 div.sk-label:hover label.sk-toggleable__label {background-color: #d4ebff;}#sk-container-id-1 div.sk-serial::before {content: \"\";position: absolute;border-left: 1px solid gray;box-sizing: border-box;top: 0;bottom: 0;left: 50%;z-index: 0;}#sk-container-id-1 div.sk-serial {display: flex;flex-direction: column;align-items: center;background-color: white;padding-right: 0.2em;padding-left: 0.2em;position: relative;}#sk-container-id-1 div.sk-item {position: relative;z-index: 1;}#sk-container-id-1 div.sk-parallel {display: flex;align-items: stretch;justify-content: center;background-color: white;position: relative;}#sk-container-id-1 div.sk-item::before, #sk-container-id-1 div.sk-parallel-item::before {content: \"\";position: absolute;border-left: 1px solid gray;box-sizing: border-box;top: 0;bottom: 0;left: 50%;z-index: -1;}#sk-container-id-1 div.sk-parallel-item {display: flex;flex-direction: column;z-index: 1;position: relative;background-color: white;}#sk-container-id-1 div.sk-parallel-item:first-child::after {align-self: flex-end;width: 50%;}#sk-container-id-1 div.sk-parallel-item:last-child::after {align-self: flex-start;width: 50%;}#sk-container-id-1 div.sk-parallel-item:only-child::after {width: 0;}#sk-container-id-1 div.sk-dashed-wrapped {border: 1px dashed gray;margin: 0 0.4em 0.5em 0.4em;box-sizing: border-box;padding-bottom: 0.4em;background-color: white;}#sk-container-id-1 div.sk-label label {font-family: monospace;font-weight: bold;display: inline-block;line-height: 1.2em;}#sk-container-id-1 div.sk-label-container {text-align: center;}#sk-container-id-1 div.sk-container {/* jupyter's `normalize.less` sets `[hidden] { display: none; }` but bootstrap.min.css set `[hidden] { display: none !important; }` so we also need the `!important` here to be able to override the default hidden behavior on the sphinx rendered scikit-learn.org. See: https://github.com/scikit-learn/scikit-learn/issues/21755 */display: inline-block !important;position: relative;}#sk-container-id-1 div.sk-text-repr-fallback {display: none;}</style><div id=\"sk-container-id-1\" class=\"sk-top-container\"><div class=\"sk-text-repr-fallback\"><pre>GridSearchCV(cv=5, estimator=KNeighborsClassifier(metric=&#x27;euclidean&#x27;),\n",
              "             param_grid={&#x27;n_neighbors&#x27;: [1, 2, 3, 4, 5, 6]},\n",
              "             scoring=&#x27;f1_weighted&#x27;)</pre><b>In a Jupyter environment, please rerun this cell to show the HTML representation or trust the notebook. <br />On GitHub, the HTML representation is unable to render, please try loading this page with nbviewer.org.</b></div><div class=\"sk-container\" hidden><div class=\"sk-item sk-dashed-wrapped\"><div class=\"sk-label-container\"><div class=\"sk-label sk-toggleable\"><input class=\"sk-toggleable__control sk-hidden--visually\" id=\"sk-estimator-id-1\" type=\"checkbox\" ><label for=\"sk-estimator-id-1\" class=\"sk-toggleable__label sk-toggleable__label-arrow\">GridSearchCV</label><div class=\"sk-toggleable__content\"><pre>GridSearchCV(cv=5, estimator=KNeighborsClassifier(metric=&#x27;euclidean&#x27;),\n",
              "             param_grid={&#x27;n_neighbors&#x27;: [1, 2, 3, 4, 5, 6]},\n",
              "             scoring=&#x27;f1_weighted&#x27;)</pre></div></div></div><div class=\"sk-parallel\"><div class=\"sk-parallel-item\"><div class=\"sk-item\"><div class=\"sk-label-container\"><div class=\"sk-label sk-toggleable\"><input class=\"sk-toggleable__control sk-hidden--visually\" id=\"sk-estimator-id-2\" type=\"checkbox\" ><label for=\"sk-estimator-id-2\" class=\"sk-toggleable__label sk-toggleable__label-arrow\">estimator: KNeighborsClassifier</label><div class=\"sk-toggleable__content\"><pre>KNeighborsClassifier(metric=&#x27;euclidean&#x27;)</pre></div></div></div><div class=\"sk-serial\"><div class=\"sk-item\"><div class=\"sk-estimator sk-toggleable\"><input class=\"sk-toggleable__control sk-hidden--visually\" id=\"sk-estimator-id-3\" type=\"checkbox\" ><label for=\"sk-estimator-id-3\" class=\"sk-toggleable__label sk-toggleable__label-arrow\">KNeighborsClassifier</label><div class=\"sk-toggleable__content\"><pre>KNeighborsClassifier(metric=&#x27;euclidean&#x27;)</pre></div></div></div></div></div></div></div></div></div></div>"
            ]
          },
          "metadata": {},
          "execution_count": 27
        }
      ]
    },
    {
      "cell_type": "code",
      "source": [
        "y_hat = neighbors.predict(X_test)\n",
        "acc = accuracy_score(y_test, y_hat)\n",
        "\n",
        "mat = confusion_matrix(y_test, y_hat)\n",
        "disp = ConfusionMatrixDisplay(mat, display_labels=clf.classes_)\n",
        "\n",
        "disp.plot()\n",
        "plt.show()\n",
        "\n",
        "f1 = f1_score(y_test, y_hat, average = None)\n",
        "\n",
        "for ind, x in enumerate(f1):\n",
        "  print(\"F1 Score:\", neighbors.classes_[ind], f1[ind])"
      ],
      "metadata": {
        "colab": {
          "base_uri": "https://localhost:8080/",
          "height": 501
        },
        "id": "hfHtGxQFrfnN",
        "outputId": "79d39c49-4068-48bc-bace-1d3f0117a277"
      },
      "execution_count": null,
      "outputs": [
        {
          "output_type": "display_data",
          "data": {
            "text/plain": [
              "<Figure size 640x480 with 2 Axes>"
            ],
            "image/png": "[encoded data removed]"
          },
          "metadata": {}
        },
        {
          "output_type": "stream",
          "name": "stdout",
          "text": [
            "F1 Score: GALAXY 0.9498971616618674\n",
            "F1 Score: QSO 0.9300400165585759\n",
            "F1 Score: STAR 0.9046547435745589\n"
          ]
        }
      ]
    },
    {
      "cell_type": "code",
      "source": [
        "print(\"Best K-Value:\", neighbors.best_estimator_)"
      ],
      "metadata": {
        "colab": {
          "base_uri": "https://localhost:8080/"
        },
        "id": "HFIPBZnyrq2i",
        "outputId": "d03ae63a-b835-4004-bb6b-507cab97ae85"
      },
      "execution_count": null,
      "outputs": [
        {
          "output_type": "stream",
          "name": "stdout",
          "text": [
            "Best K-Value: KNeighborsClassifier(metric='euclidean', n_neighbors=3)\n"
          ]
        }
      ]
    },
    {
      "cell_type": "markdown",
      "source": [
        "For this KNN approach, we iterated through 6 different K values for the model using GridSearch, which allowed us to use a Stratified 5-Fold Cross Validation to choose the best hyperparameter for the number of neighbors while accounting for the large bias in the dataset.\n",
        "\n",
        "We can see from our F1 Scores that this model performs significantly better than that of the Nearest Centroid, and of the two, this model should be selected."
      ],
      "metadata": {
        "id": "Ha_7x19GsqLP"
      }
    },
    {
      "cell_type": "markdown",
      "source": [
        "## Naive Bayes Classification"
      ],
      "metadata": {
        "id": "5DbonEef536D"
      }
    },
    {
      "cell_type": "code",
      "source": [
        "from sklearn.naive_bayes import GaussianNB\n",
        "\n",
        "# Create a Gaussian Naive Bayes classifier\n",
        "gnb = GaussianNB()\n",
        "\n",
        "# Train the classifier\n",
        "gnb.fit(X_train, y_train)\n",
        "\n",
        "# Make predictions on the test set\n",
        "y_pred = gnb.predict(X_test)\n",
        "\n",
        "# Calculate the accuracy of the classifier\n",
        "accuracy = accuracy_score(y_test, y_pred)\n",
        "print(\"Accuracy:\", accuracy)\n"
      ],
      "metadata": {
        "colab": {
          "base_uri": "https://localhost:8080/"
        },
        "id": "BiFpKdyr0RaQ",
        "outputId": "b7c3775c-af45-4f88-9cfc-7f1ce59e3369"
      },
      "execution_count": null,
      "outputs": [
        {
          "output_type": "stream",
          "name": "stdout",
          "text": [
            "Accuracy: 0.91195\n"
          ]
        }
      ]
    },
    {
      "cell_type": "code",
      "source": [
        "# Naive Bayes Confusion Matrix\n",
        "from sklearn.metrics import confusion_matrix, ConfusionMatrixDisplay, f1_score, roc_auc_score\n",
        "import matplotlib.pyplot as plt\n",
        "\n",
        "y_hat = gnb.predict(X_test)\n",
        "acc = accuracy_score(y_test, y_hat)\n",
        "\n",
        "mat = confusion_matrix(y_test, y_hat)\n",
        "disp = ConfusionMatrixDisplay(mat, display_labels=gnb.classes_)\n",
        "\n",
        "disp.plot()\n",
        "plt.show()\n",
        "\n",
        "f1 = f1_score(y_test, y_hat, average = None)\n",
        "\n",
        "for ind, x in enumerate(f1):\n",
        "  print(\"F1 Score:\", clf.classes_[ind], f1[ind])"
      ],
      "metadata": {
        "colab": {
          "base_uri": "https://localhost:8080/",
          "height": 503
        },
        "id": "zqxoil9L5nmm",
        "outputId": "19926948-eb8a-45e4-b299-5b5d01fa1a90"
      },
      "execution_count": null,
      "outputs": [
        {
          "output_type": "display_data",
          "data": {
            "text/plain": [
              "<Figure size 640x480 with 2 Axes>"
            ],
            "image/png": "[encoded data removed]"
          },
          "metadata": {}
        },
        {
          "output_type": "stream",
          "name": "stdout",
          "text": [
            "F1 Score: GALAXY 0.9248519942958385\n",
            "F1 Score: QSO 0.800242718446602\n",
            "F1 Score: STAR 0.9841048845573733\n"
          ]
        }
      ]
    },
    {
      "cell_type": "markdown",
      "source": [
        "For the Gaussian Naive Bayes classification the overall accuracy of the model performed well at 91%. This represents a pretty effective classification. The prediction accuracy of each class is good. When comparing the F1 Scores, QSO has the lowest score. This most likely is due to having the fewest datapoints in the overall dataset."
      ],
      "metadata": {
        "id": "gssRGOFP6Ysb"
      }
    },
    {
      "cell_type": "markdown",
      "source": [
        "## Classification Comparison:\n",
        "\n",
        "Between Naive Bayes and the KNN approach, we can see that there is a difference in the overall classification strength of each model. In the KNN approach, it's evident that the model performs better overall by providing consistently higher performance over all 3 classes, where as the Naive Bayes model instead spikes it's performance within the Star class, and drops some predictive performance within the Quasar class.\n",
        "\n",
        "Between the two, it's likely that the KNN model should be chosen for it's more consistent ability to perform in the 3 levels of classification, despite NB performing very well in one of it's classification levels."
      ],
      "metadata": {
        "id": "eI2orC0byy5n"
      }
    },
    {
      "cell_type": "markdown",
      "source": [
        "# Regression"
      ],
      "metadata": {
        "id": "eYaLH4Ji5db5"
      }
    },
    {
      "cell_type": "markdown",
      "source": [
        "For the regression task, we focused on building a regression model that was able to analyze and predict the **redshift** numeric value from our dataset. The nature of this regression requires that we reorient our utilized dataset, were the response switches from *Class* to *RedShift*.\n",
        "\n",
        "This switch allows us to use the class variable as a categorical feature to fit into our model to build a more robust regression. This is accomplished by utilizing One Hot Encoding on our categorical variable to create dummy variables and encode our categorical variable in such a way that the model can utilize it's information."
      ],
      "metadata": {
        "id": "bcSPOA_tRYIy"
      }
    },
    {
      "cell_type": "code",
      "source": [
        "from sklearn.preprocessing import OneHotEncoder\n",
        "\n",
        "phys_enc = phys_df.join(df[\"class\"])\n",
        "\n",
        "OHE = OneHotEncoder(sparse_output = False)\n",
        "\n",
        "classes = phys_enc[\"class\"].values.reshape(-1,1)\n",
        "\n",
        "transform = pd.DataFrame(OHE.fit_transform(classes), columns = OHE.get_feature_names_out())\n",
        "transform = transform.drop(\"x0_nan\", axis=1)\n",
        "\n",
        "phys_enc = phys_enc.drop(\"class\", axis = 1)\n",
        "phys_enc = phys_enc.join(transform)\n"
      ],
      "metadata": {
        "id": "WkItJtNmSElO"
      },
      "execution_count": null,
      "outputs": []
    },
    {
      "cell_type": "code",
      "source": [
        "phys_enc.head()"
      ],
      "metadata": {
        "colab": {
          "base_uri": "https://localhost:8080/",
          "height": 206
        },
        "id": "UzH7NLxESq_y",
        "outputId": "1d51089e-f9ce-4303-ce5e-cfe8640ce98a"
      },
      "execution_count": null,
      "outputs": [
        {
          "output_type": "execute_result",
          "data": {
            "text/plain": [
              "      alpha     delta         u         g         r         i         z  \\\n",
              "0  0.376905  0.503802  0.591347  0.558050  0.535344  0.427665  0.464377   \n",
              "1  0.402286  0.491812  0.632603  0.584423  0.646203  0.515986  0.607035   \n",
              "2  0.394960  0.534139  0.654888  0.576463  0.546218  0.435729  0.472194   \n",
              "3  0.940947  0.180600  0.511384  0.629186  0.596946  0.486717  0.487460   \n",
              "4  0.959118  0.392679  0.387463  0.335579  0.337999  0.287021  0.300043   \n",
              "\n",
              "   redshift       MJD  x0_GALAXY  x0_QSO  x0_STAR  \n",
              "0  0.091831  0.648007        1.0     0.0      0.0  \n",
              "1  0.112389  0.894320        1.0     0.0      0.0  \n",
              "2  0.093170  0.543965        1.0     0.0      0.0  \n",
              "3  0.134210  0.878072        1.0     0.0      0.0  \n",
              "4  0.017959  0.625205        1.0     0.0      0.0  "
            ],
            "text/html": [
              "\n",
              "  <div id=\"df-7b54275e-1b2e-4265-8e9a-a3e75437f492\">\n",
              "    <div class=\"colab-df-container\">\n",
              "      <div>\n",
              "<style scoped>\n",
              "    .dataframe tbody tr th:only-of-type {\n",
              "        vertical-align: middle;\n",
              "    }\n",
              "\n",
              "    .dataframe tbody tr th {\n",
              "        vertical-align: top;\n",
              "    }\n",
              "\n",
              "    .dataframe thead th {\n",
              "        text-align: right;\n",
              "    }\n",
              "</style>\n",
              "<table border=\"1\" class=\"dataframe\">\n",
              "  <thead>\n",
              "    <tr style=\"text-align: right;\">\n",
              "      <th></th>\n",
              "      <th>alpha</th>\n",
              "      <th>delta</th>\n",
              "      <th>u</th>\n",
              "      <th>g</th>\n",
              "      <th>r</th>\n",
              "      <th>i</th>\n",
              "      <th>z</th>\n",
              "      <th>redshift</th>\n",
              "      <th>MJD</th>\n",
              "      <th>x0_GALAXY</th>\n",
              "      <th>x0_QSO</th>\n",
              "      <th>x0_STAR</th>\n",
              "    </tr>\n",
              "  </thead>\n",
              "  <tbody>\n",
              "    <tr>\n",
              "      <th>0</th>\n",
              "      <td>0.376905</td>\n",
              "      <td>0.503802</td>\n",
              "      <td>0.591347</td>\n",
              "      <td>0.558050</td>\n",
              "      <td>0.535344</td>\n",
              "      <td>0.427665</td>\n",
              "      <td>0.464377</td>\n",
              "      <td>0.091831</td>\n",
              "      <td>0.648007</td>\n",
              "      <td>1.0</td>\n",
              "      <td>0.0</td>\n",
              "      <td>0.0</td>\n",
              "    </tr>\n",
              "    <tr>\n",
              "      <th>1</th>\n",
              "      <td>0.402286</td>\n",
              "      <td>0.491812</td>\n",
              "      <td>0.632603</td>\n",
              "      <td>0.584423</td>\n",
              "      <td>0.646203</td>\n",
              "      <td>0.515986</td>\n",
              "      <td>0.607035</td>\n",
              "      <td>0.112389</td>\n",
              "      <td>0.894320</td>\n",
              "      <td>1.0</td>\n",
              "      <td>0.0</td>\n",
              "      <td>0.0</td>\n",
              "    </tr>\n",
              "    <tr>\n",
              "      <th>2</th>\n",
              "      <td>0.394960</td>\n",
              "      <td>0.534139</td>\n",
              "      <td>0.654888</td>\n",
              "      <td>0.576463</td>\n",
              "      <td>0.546218</td>\n",
              "      <td>0.435729</td>\n",
              "      <td>0.472194</td>\n",
              "      <td>0.093170</td>\n",
              "      <td>0.543965</td>\n",
              "      <td>1.0</td>\n",
              "      <td>0.0</td>\n",
              "      <td>0.0</td>\n",
              "    </tr>\n",
              "    <tr>\n",
              "      <th>3</th>\n",
              "      <td>0.940947</td>\n",
              "      <td>0.180600</td>\n",
              "      <td>0.511384</td>\n",
              "      <td>0.629186</td>\n",
              "      <td>0.596946</td>\n",
              "      <td>0.486717</td>\n",
              "      <td>0.487460</td>\n",
              "      <td>0.134210</td>\n",
              "      <td>0.878072</td>\n",
              "      <td>1.0</td>\n",
              "      <td>0.0</td>\n",
              "      <td>0.0</td>\n",
              "    </tr>\n",
              "    <tr>\n",
              "      <th>4</th>\n",
              "      <td>0.959118</td>\n",
              "      <td>0.392679</td>\n",
              "      <td>0.387463</td>\n",
              "      <td>0.335579</td>\n",
              "      <td>0.337999</td>\n",
              "      <td>0.287021</td>\n",
              "      <td>0.300043</td>\n",
              "      <td>0.017959</td>\n",
              "      <td>0.625205</td>\n",
              "      <td>1.0</td>\n",
              "      <td>0.0</td>\n",
              "      <td>0.0</td>\n",
              "    </tr>\n",
              "  </tbody>\n",
              "</table>\n",
              "</div>\n",
              "      <button class=\"colab-df-convert\" onclick=\"convertToInteractive('df-7b54275e-1b2e-4265-8e9a-a3e75437f492')\"\n",
              "              title=\"Convert this dataframe to an interactive table.\"\n",
              "              style=\"display:none;\">\n",
              "        \n",
              "  <svg xmlns=\"http://www.w3.org/2000/svg\" height=\"24px\"viewBox=\"0 0 24 24\"\n",
              "       width=\"24px\">\n",
              "    <path d=\"M0 0h24v24H0V0z\" fill=\"none\"/>\n",
              "    <path d=\"M18.56 5.44l.94 2.06.94-2.06 2.06-.94-2.06-.94-.94-2.06-.94 2.06-2.06.94zm-11 1L8.5 8.5l.94-2.06 2.06-.94-2.06-.94L8.5 2.5l-.94 2.06-2.06.94zm10 10l.94 2.06.94-2.06 2.06-.94-2.06-.94-.94-2.06-.94 2.06-2.06.94z\"/><path d=\"M17.41 7.96l-1.37-1.37c-.4-.4-.92-.59-1.43-.59-.52 0-1.04.2-1.43.59L10.3 9.45l-7.72 7.72c-.78.78-.78 2.05 0 2.83L4 21.41c.39.39.9.59 1.41.59.51 0 1.02-.2 1.41-.59l7.78-7.78 2.81-2.81c.8-.78.8-2.07 0-2.86zM5.41 20L4 18.59l7.72-7.72 1.47 1.35L5.41 20z\"/>\n",
              "  </svg>\n",
              "      </button>\n",
              "      \n",
              "  <style>\n",
              "    .colab-df-container {\n",
              "      display:flex;\n",
              "      flex-wrap:wrap;\n",
              "      gap: 12px;\n",
              "    }\n",
              "\n",
              "    .colab-df-convert {\n",
              "      background-color: #E8F0FE;\n",
              "      border: none;\n",
              "      border-radius: 50%;\n",
              "      cursor: pointer;\n",
              "      display: none;\n",
              "      fill: #1967D2;\n",
              "      height: 32px;\n",
              "      padding: 0 0 0 0;\n",
              "      width: 32px;\n",
              "    }\n",
              "\n",
              "    .colab-df-convert:hover {\n",
              "      background-color: #E2EBFA;\n",
              "      box-shadow: 0px 1px 2px rgba(60, 64, 67, 0.3), 0px 1px 3px 1px rgba(60, 64, 67, 0.15);\n",
              "      fill: #174EA6;\n",
              "    }\n",
              "\n",
              "    [theme=dark] .colab-df-convert {\n",
              "      background-color: #3B4455;\n",
              "      fill: #D2E3FC;\n",
              "    }\n",
              "\n",
              "    [theme=dark] .colab-df-convert:hover {\n",
              "      background-color: #434B5C;\n",
              "      box-shadow: 0px 1px 3px 1px rgba(0, 0, 0, 0.15);\n",
              "      filter: drop-shadow(0px 1px 2px rgba(0, 0, 0, 0.3));\n",
              "      fill: #FFFFFF;\n",
              "    }\n",
              "  </style>\n",
              "\n",
              "      <script>\n",
              "        const buttonEl =\n",
              "          document.querySelector('#df-7b54275e-1b2e-4265-8e9a-a3e75437f492 button.colab-df-convert');\n",
              "        buttonEl.style.display =\n",
              "          google.colab.kernel.accessAllowed ? 'block' : 'none';\n",
              "\n",
              "        async function convertToInteractive(key) {\n",
              "          const element = document.querySelector('#df-7b54275e-1b2e-4265-8e9a-a3e75437f492');\n",
              "          const dataTable =\n",
              "            await google.colab.kernel.invokeFunction('convertToInteractive',\n",
              "                                                     [key], {});\n",
              "          if (!dataTable) return;\n",
              "\n",
              "          const docLinkHtml = 'Like what you see? Visit the ' +\n",
              "            '<a target=\"_blank\" href=https://colab.research.google.com/notebooks/data_table.ipynb>data table notebook</a>'\n",
              "            + ' to learn more about interactive tables.';\n",
              "          element.innerHTML = '';\n",
              "          dataTable['output_type'] = 'display_data';\n",
              "          await google.colab.output.renderOutput(dataTable, element);\n",
              "          const docLink = document.createElement('div');\n",
              "          docLink.innerHTML = docLinkHtml;\n",
              "          element.appendChild(docLink);\n",
              "        }\n",
              "      </script>\n",
              "    </div>\n",
              "  </div>\n",
              "  "
            ]
          },
          "metadata": {},
          "execution_count": 36
        }
      ]
    },
    {
      "cell_type": "markdown",
      "source": [
        "We can see the one hot encoded variables added to the end of dataset above.\n",
        "\n",
        "Our initial data is scaled, but it's important that our encoded variables are added after the fact, since they are representative of the classes and scaling them will remove the representation of the classes in the data."
      ],
      "metadata": {
        "id": "7raCSyGrTfgv"
      }
    },
    {
      "cell_type": "code",
      "source": [
        "X = phys_enc.drop(\"redshift\", axis=1)\n",
        "y = phys_df[\"redshift\"]\n",
        "Xr_train, Xr_test, yr_train, yr_test = train_test_split(X, y, test_size=0.2, random_state=25)"
      ],
      "metadata": {
        "id": "dN9Th1GTCrzr"
      },
      "execution_count": null,
      "outputs": []
    },
    {
      "cell_type": "code",
      "source": [
        "print(len(Xr_train), len(Xr_test))"
      ],
      "metadata": {
        "colab": {
          "base_uri": "https://localhost:8080/"
        },
        "id": "9cdWG6zZUjU4",
        "outputId": "f038ea13-dc0f-4fdc-ff1e-7034b9519cd3"
      },
      "execution_count": null,
      "outputs": [
        {
          "output_type": "stream",
          "name": "stdout",
          "text": [
            "79999 20000\n"
          ]
        }
      ]
    },
    {
      "cell_type": "markdown",
      "source": [
        "## Linear Regression"
      ],
      "metadata": {
        "id": "NQyt6Fc90tNJ"
      }
    },
    {
      "cell_type": "code",
      "source": [
        "from sklearn import linear_model\n",
        "from sklearn.metrics import mean_squared_error\n",
        "\n",
        "X = Xr_train\n",
        "y = yr_train\n",
        "\n",
        "lm = linear_model.LinearRegression()\n",
        "model = lm.fit(X,y)\n",
        "yr_hat = lm.predict(Xr_test)\n",
        "\n",
        "mse = mean_squared_error(yr_test, yr_hat)\n",
        "print(\"Mean Squared Error:\", mse)\n"
      ],
      "metadata": {
        "colab": {
          "base_uri": "https://localhost:8080/"
        },
        "id": "hUnu3gtzV676",
        "outputId": "fe7c008f-0310-47b2-ac7c-793face495d5"
      },
      "execution_count": 74,
      "outputs": [
        {
          "output_type": "stream",
          "name": "stdout",
          "text": [
            "Mean Squared Error: 0.005079356181786043\n"
          ]
        }
      ]
    },
    {
      "cell_type": "markdown",
      "source": [
        "## LinearSVR Regression"
      ],
      "metadata": {
        "id": "GtSJvtl90wwl"
      }
    },
    {
      "cell_type": "code",
      "source": [
        "from sklearn.svm import LinearSVR\n",
        "\n",
        "X = Xr_train\n",
        "y = yr_train\n",
        "\n",
        "param_grid = {'C': [0.7, 0.75, 0.8, 0.85, 0.9, 1]}\n",
        "\n",
        "SVR = LinearSVR(loss = \"squared_epsilon_insensitive\", dual=False)\n",
        "SVR.fit(X, y)\n",
        "yr_hat = SVR.predict(Xr_test)\n",
        "\n",
        "svr_grid = GridSearchCV(estimator = SVR, param_grid = param_grid, scoring= \"neg_mean_squared_error\", cv = 5)\n",
        "svr_grid.fit(X,y)\n",
        "svr_hat = svr_grid.predict(Xr_test)\n",
        "\n",
        "mse = mean_squared_error(yr_test, svr_hat)\n",
        "print(\"Best Parameters:\", svr_grid.best_estimator_)\n",
        "print(\"Grid Searched Mean Squared Error:\", mse)"
      ],
      "metadata": {
        "colab": {
          "base_uri": "https://localhost:8080/"
        },
        "id": "t9AEnNJV2jCy",
        "outputId": "2c967c75-32f2-4c35-bcf4-0391990cafd9"
      },
      "execution_count": 76,
      "outputs": [
        {
          "output_type": "stream",
          "name": "stdout",
          "text": [
            "Best Parameters: LinearSVR(C=0.8, dual=False, loss='squared_epsilon_insensitive')\n",
            "Grid Searched Mean Squared Error: 0.005079655606642888\n"
          ]
        }
      ]
    },
    {
      "cell_type": "markdown",
      "source": [
        "## Regression Analysis"
      ],
      "metadata": {
        "id": "sgjzXY6g80er"
      }
    },
    {
      "cell_type": "code",
      "source": [
        "coefficients = pd.concat([pd.DataFrame(Xr_train.columns),pd.DataFrame(np.transpose(svr_grid.best_estimator_.coef_))], axis = 1)\n",
        "print(\"LinearSVR Coeffecients\")\n",
        "coefficients"
      ],
      "metadata": {
        "colab": {
          "base_uri": "https://localhost:8080/",
          "height": 412
        },
        "id": "qmeOM8rfrfMo",
        "outputId": "6865ab2e-e434-4a75-9089-169f843b6ff5"
      },
      "execution_count": 73,
      "outputs": [
        {
          "output_type": "stream",
          "name": "stdout",
          "text": [
            "LinearSVR Coeffecients\n"
          ]
        },
        {
          "output_type": "execute_result",
          "data": {
            "text/plain": [
              "            0         0\n",
              "0       alpha -0.000247\n",
              "1       delta -0.002914\n",
              "2           u  0.020187\n",
              "3           g -0.136892\n",
              "4           r  0.056279\n",
              "5           i  0.363870\n",
              "6           z  0.064338\n",
              "7         MJD  0.033951\n",
              "8   x0_GALAXY -0.044381\n",
              "9      x0_QSO  0.075700\n",
              "10    x0_STAR -0.089988"
            ],
            "text/html": [
              "\n",
              "  <div id=\"df-77ac9f29-883f-48bf-ade9-3804d5c56560\">\n",
              "    <div class=\"colab-df-container\">\n",
              "      <div>\n",
              "<style scoped>\n",
              "    .dataframe tbody tr th:only-of-type {\n",
              "        vertical-align: middle;\n",
              "    }\n",
              "\n",
              "    .dataframe tbody tr th {\n",
              "        vertical-align: top;\n",
              "    }\n",
              "\n",
              "    .dataframe thead th {\n",
              "        text-align: right;\n",
              "    }\n",
              "</style>\n",
              "<table border=\"1\" class=\"dataframe\">\n",
              "  <thead>\n",
              "    <tr style=\"text-align: right;\">\n",
              "      <th></th>\n",
              "      <th>0</th>\n",
              "      <th>0</th>\n",
              "    </tr>\n",
              "  </thead>\n",
              "  <tbody>\n",
              "    <tr>\n",
              "      <th>0</th>\n",
              "      <td>alpha</td>\n",
              "      <td>-0.000247</td>\n",
              "    </tr>\n",
              "    <tr>\n",
              "      <th>1</th>\n",
              "      <td>delta</td>\n",
              "      <td>-0.002914</td>\n",
              "    </tr>\n",
              "    <tr>\n",
              "      <th>2</th>\n",
              "      <td>u</td>\n",
              "      <td>0.020187</td>\n",
              "    </tr>\n",
              "    <tr>\n",
              "      <th>3</th>\n",
              "      <td>g</td>\n",
              "      <td>-0.136892</td>\n",
              "    </tr>\n",
              "    <tr>\n",
              "      <th>4</th>\n",
              "      <td>r</td>\n",
              "      <td>0.056279</td>\n",
              "    </tr>\n",
              "    <tr>\n",
              "      <th>5</th>\n",
              "      <td>i</td>\n",
              "      <td>0.363870</td>\n",
              "    </tr>\n",
              "    <tr>\n",
              "      <th>6</th>\n",
              "      <td>z</td>\n",
              "      <td>0.064338</td>\n",
              "    </tr>\n",
              "    <tr>\n",
              "      <th>7</th>\n",
              "      <td>MJD</td>\n",
              "      <td>0.033951</td>\n",
              "    </tr>\n",
              "    <tr>\n",
              "      <th>8</th>\n",
              "      <td>x0_GALAXY</td>\n",
              "      <td>-0.044381</td>\n",
              "    </tr>\n",
              "    <tr>\n",
              "      <th>9</th>\n",
              "      <td>x0_QSO</td>\n",
              "      <td>0.075700</td>\n",
              "    </tr>\n",
              "    <tr>\n",
              "      <th>10</th>\n",
              "      <td>x0_STAR</td>\n",
              "      <td>-0.089988</td>\n",
              "    </tr>\n",
              "  </tbody>\n",
              "</table>\n",
              "</div>\n",
              "      <button class=\"colab-df-convert\" onclick=\"convertToInteractive('df-77ac9f29-883f-48bf-ade9-3804d5c56560')\"\n",
              "              title=\"Convert this dataframe to an interactive table.\"\n",
              "              style=\"display:none;\">\n",
              "        \n",
              "  <svg xmlns=\"http://www.w3.org/2000/svg\" height=\"24px\"viewBox=\"0 0 24 24\"\n",
              "       width=\"24px\">\n",
              "    <path d=\"M0 0h24v24H0V0z\" fill=\"none\"/>\n",
              "    <path d=\"M18.56 5.44l.94 2.06.94-2.06 2.06-.94-2.06-.94-.94-2.06-.94 2.06-2.06.94zm-11 1L8.5 8.5l.94-2.06 2.06-.94-2.06-.94L8.5 2.5l-.94 2.06-2.06.94zm10 10l.94 2.06.94-2.06 2.06-.94-2.06-.94-.94-2.06-.94 2.06-2.06.94z\"/><path d=\"M17.41 7.96l-1.37-1.37c-.4-.4-.92-.59-1.43-.59-.52 0-1.04.2-1.43.59L10.3 9.45l-7.72 7.72c-.78.78-.78 2.05 0 2.83L4 21.41c.39.39.9.59 1.41.59.51 0 1.02-.2 1.41-.59l7.78-7.78 2.81-2.81c.8-.78.8-2.07 0-2.86zM5.41 20L4 18.59l7.72-7.72 1.47 1.35L5.41 20z\"/>\n",
              "  </svg>\n",
              "      </button>\n",
              "      \n",
              "  <style>\n",
              "    .colab-df-container {\n",
              "      display:flex;\n",
              "      flex-wrap:wrap;\n",
              "      gap: 12px;\n",
              "    }\n",
              "\n",
              "    .colab-df-convert {\n",
              "      background-color: #E8F0FE;\n",
              "      border: none;\n",
              "      border-radius: 50%;\n",
              "      cursor: pointer;\n",
              "      display: none;\n",
              "      fill: #1967D2;\n",
              "      height: 32px;\n",
              "      padding: 0 0 0 0;\n",
              "      width: 32px;\n",
              "    }\n",
              "\n",
              "    .colab-df-convert:hover {\n",
              "      background-color: #E2EBFA;\n",
              "      box-shadow: 0px 1px 2px rgba(60, 64, 67, 0.3), 0px 1px 3px 1px rgba(60, 64, 67, 0.15);\n",
              "      fill: #174EA6;\n",
              "    }\n",
              "\n",
              "    [theme=dark] .colab-df-convert {\n",
              "      background-color: #3B4455;\n",
              "      fill: #D2E3FC;\n",
              "    }\n",
              "\n",
              "    [theme=dark] .colab-df-convert:hover {\n",
              "      background-color: #434B5C;\n",
              "      box-shadow: 0px 1px 3px 1px rgba(0, 0, 0, 0.15);\n",
              "      filter: drop-shadow(0px 1px 2px rgba(0, 0, 0, 0.3));\n",
              "      fill: #FFFFFF;\n",
              "    }\n",
              "  </style>\n",
              "\n",
              "      <script>\n",
              "        const buttonEl =\n",
              "          document.querySelector('#df-77ac9f29-883f-48bf-ade9-3804d5c56560 button.colab-df-convert');\n",
              "        buttonEl.style.display =\n",
              "          google.colab.kernel.accessAllowed ? 'block' : 'none';\n",
              "\n",
              "        async function convertToInteractive(key) {\n",
              "          const element = document.querySelector('#df-77ac9f29-883f-48bf-ade9-3804d5c56560');\n",
              "          const dataTable =\n",
              "            await google.colab.kernel.invokeFunction('convertToInteractive',\n",
              "                                                     [key], {});\n",
              "          if (!dataTable) return;\n",
              "\n",
              "          const docLinkHtml = 'Like what you see? Visit the ' +\n",
              "            '<a target=\"_blank\" href=https://colab.research.google.com/notebooks/data_table.ipynb>data table notebook</a>'\n",
              "            + ' to learn more about interactive tables.';\n",
              "          element.innerHTML = '';\n",
              "          dataTable['output_type'] = 'display_data';\n",
              "          await google.colab.output.renderOutput(dataTable, element);\n",
              "          const docLink = document.createElement('div');\n",
              "          docLink.innerHTML = docLinkHtml;\n",
              "          element.appendChild(docLink);\n",
              "        }\n",
              "      </script>\n",
              "    </div>\n",
              "  </div>\n",
              "  "
            ]
          },
          "metadata": {},
          "execution_count": 73
        }
      ]
    },
    {
      "cell_type": "markdown",
      "source": [
        "We can pick out some interesting relationships from these regression coeffecients, namely physical phenomena that can be explained by some intuition. We can see that as redshift increases (or the distance of each stellar object increases from us) that the luminosity of the red/infrared wavelength increases and green wavelengths decrease, which mirrors what we intuitively expect from the Doppler shifts in wavelengths.\n",
        "\n",
        "Additionally we see that as redshift increases, we see less Galaxies and Stars, and more Quasars, which also makes sense given that Quasars are some of the brightest objects in a stellar scan, often regardless of distance."
      ],
      "metadata": {
        "id": "h58gyh-yskZi"
      }
    },
    {
      "cell_type": "markdown",
      "source": [
        "## Regression Comparison"
      ],
      "metadata": {
        "id": "xMbLnLgXtzQW"
      }
    },
    {
      "cell_type": "markdown",
      "source": [
        "For our Regression task, we utilized 2 regression models, one Linear Regression as a baseline, and a Linear Support Vector Regression with a Stratified 5 Fold Grid Search to identify relevant hyper parameters. As with the classification task, the cross-validation methods here are stratified because it maintains the ratios of class variables within each \"fold\" of the data.\n",
        "\n",
        "These models were trained on an 80/20 train/test split of the initial data that had been scaled and had it's categorical variable one-hot encoded to allow it to be utilized within the Linear and LinearSVR models.\n"
      ],
      "metadata": {
        "id": "7i9hGeXtEw6n"
      }
    },
    {
      "cell_type": "markdown",
      "source": [
        "Between these two models, we utilized the MSE as a method of determining modelling strength as F1 score from the classification task is not relevant to this model.  We can see from the MSE scores of each that their performance on the test set was remarkably close as might require further investigation to determine which model should be used for the task.\n",
        "\n",
        "It's likely that these models are operating very similarly because our dataset itself is wholly numerical and standardized which distills any regression tasks to very ideal scenarios."
      ],
      "metadata": {
        "id": "EUC7Pqs1rLzB"
      }
    },
    {
      "cell_type": "markdown",
      "source": [
        "# Variable Importance\n",
        "\n",
        "With a previous utilization of PCR and Logistic Regression, we found that most of the ID variables within the dataset did not have a statistically significant impact in explaining the overall variance within the dataset and didn't provide much info in classification, respectively. Using this insight, we could safely remove this data from the dataset, knowing that most of our variance and information lay in the physical properties of each stellar object.\n",
        "\n",
        "The removal of the IDs also removed any possiblity of models misassociating a naming schema with the classification task. This could effectively let the model cheat, as if certain ID groups were associated with any classification tags, that information might skew any of the physical properties in the other variables.\n",
        "\n",
        "We standardized the data to optimize any distance calculations and speed up any of the more complex models, due to the large size of the dataset. We also rationalized this standarization with the foresight that SVR ideally the best on standardized data."
      ],
      "metadata": {
        "id": "IThabmbO1PJb"
      }
    },
    {
      "cell_type": "markdown",
      "source": [
        "# Deployment\n",
        "\n",
        "The utility of these tools exists mainly for research and potentially to be used on datasets even larger than the one that was introduced to train these models. The utility of an autonomous classifier is highlighted when the scope of newer and larger stellar surveys are taken into consideration. The ability to observe any stellar object and have it's object classification streamlines the collection and aggregation of data, and could potentially be used to data mine stronger and more robust classifiers in the future. How these physical observations are collected and analyzed are beyond the scope of the assignment.\n",
        "\n",
        "As the models implementation increase in scope, the classification rate will need to be revised to more robust values as while the current misclassification rate is acceptable at lower sample sizes, at samples >100k, the misclassification amount could possibly balloon to unacceptable sizes. Whether or not these misclassifications are statistically relevant in the grandscheme of an analysis depends on the use case and tolerance of the user."
      ],
      "metadata": {
        "id": "YDEVJwwN33AL"
      }
    }
  ]
}